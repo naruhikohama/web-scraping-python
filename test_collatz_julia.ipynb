{
 "cells": [
  {
   "cell_type": "code",
   "execution_count": 2,
   "metadata": {},
   "outputs": [
    {
     "data": {
      "text/plain": [
       "collatz_steps (generic function with 2 methods)"
      ]
     },
     "metadata": {},
     "output_type": "display_data"
    }
   ],
   "source": [
    "function collatz_steps(number, steps=0)\n",
    "    if number <= 0\n",
    "        throw(DomainError(\"Invalid Number.\"))\n",
    "    end\n",
    "    if number == 1\n",
    "        return steps\n",
    "    else\n",
    "        if number % 2 == 0\n",
    "            number = number / 2\n",
    "            steps += 1\n",
    "            collatz_steps(number, steps)\n",
    "        else\n",
    "            number = number * 3 + 1\n",
    "            steps += 1\n",
    "            collatz_steps(number, steps)\n",
    "        end\n",
    "    end\n",
    "end"
   ]
  },
  {
   "cell_type": "code",
   "execution_count": 4,
   "metadata": {},
   "outputs": [
    {
     "data": {
      "text/plain": [
       "111"
      ]
     },
     "metadata": {},
     "output_type": "display_data"
    }
   ],
   "source": [
    "collatz_steps(1000)"
   ]
  },
  {
   "cell_type": "code",
   "execution_count": null,
   "metadata": {},
   "outputs": [],
   "source": [
    "function fibonacci(n):\n",
    "    if n < 0:\n",
    "        throw(DomainError(\"Somente numeros positivos inteiros\"))\n",
    "    \n",
    "    elseif n == 0:\n",
    "        return 0\n",
    "    \n",
    "    elseif (n == 1) || (n == 2):\n",
    "        return 1\n",
    "    \n",
    "    else:\n",
    "        return fibonacci(n-1) + fibonacci(n-2)"
   ]
  }
 ],
 "metadata": {
  "kernelspec": {
   "display_name": "Julia 1.9.3",
   "language": "julia",
   "name": "julia-1.9"
  },
  "language_info": {
   "file_extension": ".jl",
   "mimetype": "application/julia",
   "name": "julia",
   "version": "1.9.3"
  },
  "orig_nbformat": 4
 },
 "nbformat": 4,
 "nbformat_minor": 2
}
